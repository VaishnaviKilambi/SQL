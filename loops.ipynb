{
  "nbformat": 4,
  "nbformat_minor": 0,
  "metadata": {
    "colab": {
      "provenance": [],
      "authorship_tag": "ABX9TyMlN5Im9JHGQQS4oob7eXpY",
      "include_colab_link": true
    },
    "kernelspec": {
      "name": "python3",
      "display_name": "Python 3"
    },
    "language_info": {
      "name": "python"
    }
  },
  "cells": [
    {
      "cell_type": "markdown",
      "metadata": {
        "id": "view-in-github",
        "colab_type": "text"
      },
      "source": [
        "<a href=\"https://colab.research.google.com/github/VaishnaviKilambi/SQL/blob/main/loops.ipynb\" target=\"_parent\"><img src=\"https://colab.research.google.com/assets/colab-badge.svg\" alt=\"Open In Colab\"/></a>"
      ]
    },
    {
      "cell_type": "code",
      "execution_count": null,
      "metadata": {
        "id": "ntvb7K-Rp7A_"
      },
      "outputs": [],
      "source": [
        "l=[1,2,3,4,5]"
      ]
    },
    {
      "cell_type": "code",
      "source": [
        "l = []\n",
        "\n",
        "while l:\n",
        "  print('inside while loop')"
      ],
      "metadata": {
        "id": "J_ElHWwus9Di"
      },
      "execution_count": null,
      "outputs": []
    },
    {
      "cell_type": "code",
      "source": [
        "l = [1]\n",
        "\n",
        "while l:\n",
        "  print('inside while loop')"
      ],
      "metadata": {
        "id": "TK6b3iaAs9Jf"
      },
      "execution_count": null,
      "outputs": []
    },
    {
      "cell_type": "code",
      "source": [
        "l = [1]\n",
        "\n",
        "while l:\n",
        "  print('inside while loop')"
      ],
      "metadata": {
        "id": "LOhWJ51HtyQu"
      },
      "execution_count": null,
      "outputs": []
    },
    {
      "cell_type": "code",
      "source": [
        "while True:\n",
        "  print('inside while loop')"
      ],
      "metadata": {
        "id": "FDYsVVwit7vu"
      },
      "execution_count": null,
      "outputs": []
    },
    {
      "cell_type": "code",
      "source": [
        "while False:\n",
        "  print('inside while loop')"
      ],
      "metadata": {
        "id": "QQe330Ppt70I"
      },
      "execution_count": null,
      "outputs": []
    },
    {
      "cell_type": "code",
      "source": [
        "l=[1,2,3,4,5]\n",
        "index=0\n",
        "\n",
        "while True:\n",
        "  if index == len(l):\n",
        "    break\n",
        "\n",
        "  print(l[index])\n",
        "  index += 1"
      ],
      "metadata": {
        "colab": {
          "base_uri": "https://localhost:8080/"
        },
        "id": "aP5TjpKcrZtu",
        "outputId": "db2ef178-cfa8-4937-bfb0-0ee2dc7d0eed"
      },
      "execution_count": null,
      "outputs": [
        {
          "output_type": "stream",
          "name": "stdout",
          "text": [
            "1\n",
            "2\n",
            "3\n",
            "4\n",
            "5\n"
          ]
        }
      ]
    },
    {
      "cell_type": "markdown",
      "source": [
        "**syntax:**\n",
        "\n",
        "while var:\n",
        "  do-something"
      ],
      "metadata": {
        "id": "0XyBRy0Krvsg"
      }
    },
    {
      "cell_type": "code",
      "source": [
        "l=[1,2,3,4,5]\n",
        "index = 0\n",
        "sum = 0\n",
        "while True:\n",
        "  if index == len(l):\n",
        "    break\n",
        "  sum = sum+l[index]\n",
        "  index += 1\n",
        "\n",
        "print(sum)"
      ],
      "metadata": {
        "colab": {
          "base_uri": "https://localhost:8080/"
        },
        "id": "YGXzMVobrZwC",
        "outputId": "ceb6c744-7271-4e1f-ed80-e8420e66151f"
      },
      "execution_count": null,
      "outputs": [
        {
          "output_type": "stream",
          "name": "stdout",
          "text": [
            "15\n"
          ]
        }
      ]
    },
    {
      "cell_type": "code",
      "source": [
        "l=[1,2,3,4,5]\n",
        "index = 0\n",
        "max_value = l[0]\n",
        "\n",
        "while True:\n",
        "  if index == len(l):\n",
        "    break\n",
        "  if max_value < l[index]:\n",
        "     max_value = l[index]\n",
        "  index +=1\n",
        "print(max_value)"
      ],
      "metadata": {
        "colab": {
          "base_uri": "https://localhost:8080/"
        },
        "id": "J32ASlnsrZyI",
        "outputId": "97d650ff-f62f-4574-db54-b883932c40b9"
      },
      "execution_count": null,
      "outputs": [
        {
          "output_type": "stream",
          "name": "stdout",
          "text": [
            "5\n"
          ]
        }
      ]
    },
    {
      "cell_type": "code",
      "source": [
        "if True:\n",
        "  pass"
      ],
      "metadata": {
        "id": "bJfvKTxLrZ0e"
      },
      "execution_count": null,
      "outputs": []
    },
    {
      "cell_type": "code",
      "source": [
        "if True:\n",
        "  pass\n",
        "else:\n",
        "  pass"
      ],
      "metadata": {
        "id": "z2yzLOgCB1cN"
      },
      "execution_count": null,
      "outputs": []
    },
    {
      "cell_type": "code",
      "source": [
        "if True:\n",
        "  pass\n",
        "elif True:\n",
        "  pass\n",
        "elif True:\n",
        "  pass\n",
        "elif True:\n",
        "  pass\n",
        "else:\n",
        "  pass\n"
      ],
      "metadata": {
        "id": "yZXgeTruCPL3"
      },
      "execution_count": null,
      "outputs": []
    },
    {
      "cell_type": "code",
      "source": [
        "cities = ['dallas','dublin','oakland','sanfransisco','sanjose']\n",
        "\n",
        "for city in cities:\n",
        "  if city == 'dublin':\n",
        "    print(\"I am in dublin\")\n",
        "  elif city == 'oakland':\n",
        "    print(\"I am in oakland\")\n",
        "  elif city == 'sanfransisco':\n",
        "    print(\"I am in sanfransisco\")\n",
        "  elif city == 'sanjose':\n",
        "    print(\"I am in sanjose\")\n",
        "  else:\n",
        "    print(\"I am in other city\")"
      ],
      "metadata": {
        "colab": {
          "base_uri": "https://localhost:8080/"
        },
        "id": "PGhkxUwKHB4S",
        "outputId": "fb5ecc20-e17d-49bb-c9d4-c29bdc05d155"
      },
      "execution_count": null,
      "outputs": [
        {
          "output_type": "stream",
          "name": "stdout",
          "text": [
            "I am in other city\n",
            "I am in dublin\n",
            "I am in oakland\n",
            "I am in sanfransisco\n",
            "I am in sanjose\n"
          ]
        }
      ]
    },
    {
      "cell_type": "code",
      "source": [
        "Numbers = [1,2,3,4,5,6,7,8]\n",
        "even = []\n",
        "odd = []\n",
        "\n",
        "for num in Numbers:\n",
        "  if num%2 == 1:\n",
        "    odd.append(num)\n",
        "  elif num%2 == 0:\n",
        "    even.append(num)\n",
        "  else:\n",
        "    pass\n",
        "\n",
        "print(even)\n",
        "print(odd)"
      ],
      "metadata": {
        "colab": {
          "base_uri": "https://localhost:8080/"
        },
        "id": "038-upsPq346",
        "outputId": "88946f5b-d774-4c52-b9fb-907b83604506"
      },
      "execution_count": null,
      "outputs": [
        {
          "output_type": "stream",
          "name": "stdout",
          "text": [
            "[2, 4, 6, 8]\n",
            "[1, 3, 5, 7]\n"
          ]
        }
      ]
    },
    {
      "cell_type": "code",
      "source": [
        "Numbers = [1,2,3,4,5,6,7,8,9,10]\n",
        "max_value = Numbers[0]\n",
        "\n",
        "for num in Numbers:\n",
        "  if num > max_value:\n",
        "    max_value = num\n",
        "\n",
        "print(max_value)"
      ],
      "metadata": {
        "colab": {
          "base_uri": "https://localhost:8080/"
        },
        "id": "JAS1JdM_LKdb",
        "outputId": "795e1902-7544-4e66-a1dc-fcdce6c55fcc"
      },
      "execution_count": null,
      "outputs": [
        {
          "output_type": "stream",
          "name": "stdout",
          "text": [
            "10\n"
          ]
        }
      ]
    },
    {
      "cell_type": "code",
      "source": [
        "Numbers = [1,2,3,4,5,6,7,8,9,10]\n",
        "max_value = Numbers[0]\n",
        "min_value = Numbers[0]\n",
        "\n",
        "for num in Numbers:\n",
        "  if num > max_value:\n",
        "    max_value = num\n",
        "  elif num < min_value:\n",
        "    min_value = num\n",
        "\n",
        "print('the max value is',max_value)\n",
        "print('the min value is',min_value)\n"
      ],
      "metadata": {
        "colab": {
          "base_uri": "https://localhost:8080/"
        },
        "id": "MdOL8CKAM2gP",
        "outputId": "723f13d5-0926-4319-9f65-551d04d37727"
      },
      "execution_count": null,
      "outputs": [
        {
          "output_type": "stream",
          "name": "stdout",
          "text": [
            "the max value is 10\n",
            "the min value is 1\n"
          ]
        }
      ]
    },
    {
      "cell_type": "code",
      "source": [
        "l = [1,2,3,4,5,6,7,8,9,10]\n",
        "index = 0\n",
        "max_value = l[0]\n",
        "min_value = l[0]\n",
        "\n",
        "while True:\n",
        "  if index == len(l):\n",
        "    break\n",
        "  if l[index] > max_value:\n",
        "    max_value = l[index]\n",
        "  elif l[index] < min_value:\n",
        "    min_value = l[index]\n",
        "  index = index+1\n",
        "\n",
        "print('the max value is',max_value)\n",
        "print('the min value is',min_value)"
      ],
      "metadata": {
        "colab": {
          "base_uri": "https://localhost:8080/"
        },
        "id": "DRa4qapKNsMn",
        "outputId": "63878a94-8bbc-4951-e06f-b3dbb32fa3e0"
      },
      "execution_count": null,
      "outputs": [
        {
          "output_type": "stream",
          "name": "stdout",
          "text": [
            "the max value is 10\n",
            "the min value is 1\n"
          ]
        }
      ]
    }
  ]
}